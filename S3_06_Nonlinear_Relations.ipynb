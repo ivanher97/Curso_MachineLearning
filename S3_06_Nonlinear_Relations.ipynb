{
 "cells": [
  {
   "cell_type": "code",
   "execution_count": 1,
   "id": "1ad1072d-eea4-4eeb-b03a-4378c526dc6b",
   "metadata": {},
   "outputs": [],
   "source": [
    "import numpy as np\n",
    "import pandas as pd\n",
    "import matplotlib.pyplot as plt\n",
    "import seaborn as sns\n",
    "sns.set_style(\"whitegrid\")\n",
    "%matplotlib inline"
   ]
  },
  {
   "cell_type": "code",
   "execution_count": 2,
   "id": "89a7b068-5647-46f2-ab60-d2f98dc084fe",
   "metadata": {},
   "outputs": [],
   "source": [
    "# Cargamos el dataframe con los datos del .data\n",
    "df_boston = pd.read_csv('data//housing.data', delim_whitespace = True, header = None)\n",
    "df_boston.columns = ['CRIM', 'ZN', 'INDUS', 'CHAS', 'NOX', 'RM', 'AGE', 'DIS', 'RAD', 'TAX', 'PTRATIO', 'B', 'LSTAT', 'MEDV']"
   ]
  },
  {
   "cell_type": "code",
   "execution_count": 4,
   "id": "f68a6996-b28a-4e8b-a5dc-e62ae2fc81ec",
   "metadata": {},
   "outputs": [
    {
     "data": {
      "text/html": [
       "<div>\n",
       "<style scoped>\n",
       "    .dataframe tbody tr th:only-of-type {\n",
       "        vertical-align: middle;\n",
       "    }\n",
       "\n",
       "    .dataframe tbody tr th {\n",
       "        vertical-align: top;\n",
       "    }\n",
       "\n",
       "    .dataframe thead th {\n",
       "        text-align: right;\n",
       "    }\n",
       "</style>\n",
       "<table border=\"1\" class=\"dataframe\">\n",
       "  <thead>\n",
       "    <tr style=\"text-align: right;\">\n",
       "      <th></th>\n",
       "      <th>CRIM</th>\n",
       "      <th>ZN</th>\n",
       "      <th>INDUS</th>\n",
       "      <th>CHAS</th>\n",
       "      <th>NOX</th>\n",
       "      <th>RM</th>\n",
       "      <th>AGE</th>\n",
       "      <th>DIS</th>\n",
       "      <th>RAD</th>\n",
       "      <th>TAX</th>\n",
       "      <th>PTRATIO</th>\n",
       "      <th>B</th>\n",
       "      <th>LSTAT</th>\n",
       "      <th>MEDV</th>\n",
       "    </tr>\n",
       "  </thead>\n",
       "  <tbody>\n",
       "    <tr>\n",
       "      <th>0</th>\n",
       "      <td>0.00632</td>\n",
       "      <td>18.0</td>\n",
       "      <td>2.31</td>\n",
       "      <td>0</td>\n",
       "      <td>0.538</td>\n",
       "      <td>6.575</td>\n",
       "      <td>65.2</td>\n",
       "      <td>4.0900</td>\n",
       "      <td>1</td>\n",
       "      <td>296.0</td>\n",
       "      <td>15.3</td>\n",
       "      <td>396.90</td>\n",
       "      <td>4.98</td>\n",
       "      <td>24.0</td>\n",
       "    </tr>\n",
       "    <tr>\n",
       "      <th>1</th>\n",
       "      <td>0.02731</td>\n",
       "      <td>0.0</td>\n",
       "      <td>7.07</td>\n",
       "      <td>0</td>\n",
       "      <td>0.469</td>\n",
       "      <td>6.421</td>\n",
       "      <td>78.9</td>\n",
       "      <td>4.9671</td>\n",
       "      <td>2</td>\n",
       "      <td>242.0</td>\n",
       "      <td>17.8</td>\n",
       "      <td>396.90</td>\n",
       "      <td>9.14</td>\n",
       "      <td>21.6</td>\n",
       "    </tr>\n",
       "    <tr>\n",
       "      <th>2</th>\n",
       "      <td>0.02729</td>\n",
       "      <td>0.0</td>\n",
       "      <td>7.07</td>\n",
       "      <td>0</td>\n",
       "      <td>0.469</td>\n",
       "      <td>7.185</td>\n",
       "      <td>61.1</td>\n",
       "      <td>4.9671</td>\n",
       "      <td>2</td>\n",
       "      <td>242.0</td>\n",
       "      <td>17.8</td>\n",
       "      <td>392.83</td>\n",
       "      <td>4.03</td>\n",
       "      <td>34.7</td>\n",
       "    </tr>\n",
       "    <tr>\n",
       "      <th>3</th>\n",
       "      <td>0.03237</td>\n",
       "      <td>0.0</td>\n",
       "      <td>2.18</td>\n",
       "      <td>0</td>\n",
       "      <td>0.458</td>\n",
       "      <td>6.998</td>\n",
       "      <td>45.8</td>\n",
       "      <td>6.0622</td>\n",
       "      <td>3</td>\n",
       "      <td>222.0</td>\n",
       "      <td>18.7</td>\n",
       "      <td>394.63</td>\n",
       "      <td>2.94</td>\n",
       "      <td>33.4</td>\n",
       "    </tr>\n",
       "    <tr>\n",
       "      <th>4</th>\n",
       "      <td>0.06905</td>\n",
       "      <td>0.0</td>\n",
       "      <td>2.18</td>\n",
       "      <td>0</td>\n",
       "      <td>0.458</td>\n",
       "      <td>7.147</td>\n",
       "      <td>54.2</td>\n",
       "      <td>6.0622</td>\n",
       "      <td>3</td>\n",
       "      <td>222.0</td>\n",
       "      <td>18.7</td>\n",
       "      <td>396.90</td>\n",
       "      <td>5.33</td>\n",
       "      <td>36.2</td>\n",
       "    </tr>\n",
       "  </tbody>\n",
       "</table>\n",
       "</div>"
      ],
      "text/plain": [
       "      CRIM    ZN  INDUS  CHAS    NOX     RM   AGE     DIS  RAD    TAX  \\\n",
       "0  0.00632  18.0   2.31     0  0.538  6.575  65.2  4.0900    1  296.0   \n",
       "1  0.02731   0.0   7.07     0  0.469  6.421  78.9  4.9671    2  242.0   \n",
       "2  0.02729   0.0   7.07     0  0.469  7.185  61.1  4.9671    2  242.0   \n",
       "3  0.03237   0.0   2.18     0  0.458  6.998  45.8  6.0622    3  222.0   \n",
       "4  0.06905   0.0   2.18     0  0.458  7.147  54.2  6.0622    3  222.0   \n",
       "\n",
       "   PTRATIO       B  LSTAT  MEDV  \n",
       "0     15.3  396.90   4.98  24.0  \n",
       "1     17.8  396.90   9.14  21.6  \n",
       "2     17.8  392.83   4.03  34.7  \n",
       "3     18.7  394.63   2.94  33.4  \n",
       "4     18.7  396.90   5.33  36.2  "
      ]
     },
     "execution_count": 4,
     "metadata": {},
     "output_type": "execute_result"
    }
   ],
   "source": [
    "df_boston.head()"
   ]
  },
  {
   "cell_type": "markdown",
   "id": "bc991af0-dbc4-45c2-b6ea-773f2d6e47e4",
   "metadata": {},
   "source": [
    "BRIEF INTRODUCTION DECISION TREE"
   ]
  },
  {
   "cell_type": "code",
   "execution_count": 18,
   "id": "0b0dc518-2872-4bd7-9063-b4ad3ba52b4c",
   "metadata": {},
   "outputs": [],
   "source": [
    "from sklearn.tree import DecisionTreeRegressor"
   ]
  },
  {
   "cell_type": "code",
   "execution_count": 19,
   "id": "d3e1f990-cc9e-4c87-8f56-d28687264a76",
   "metadata": {},
   "outputs": [],
   "source": [
    "x = df_boston[['LSTAT']].values\n",
    "y = df_boston[['MEDV']].values"
   ]
  },
  {
   "cell_type": "code",
   "execution_count": 20,
   "id": "ff60613c-6ca4-4e46-aee7-83476e6a1214",
   "metadata": {},
   "outputs": [
    {
     "data": {
      "text/plain": [
       "DecisionTreeRegressor(max_depth=5)"
      ]
     },
     "execution_count": 20,
     "metadata": {},
     "output_type": "execute_result"
    }
   ],
   "source": [
    "# Creamos el modelo e indicamos el nivel de profundidad que queremos que tenga, de forma que controlemos el ruido\n",
    "tree = DecisionTreeRegressor(max_depth = 5)\n",
    "tree.fit(x, y)"
   ]
  },
  {
   "cell_type": "code",
   "execution_count": 21,
   "id": "a4f09f28-4605-49ae-8150-8ab3561ac9fa",
   "metadata": {},
   "outputs": [],
   "source": [
    "# Ordenamos x e y para que la linea de prediccion no salte de un lado a otro al dibujarse.\n",
    "sort_idx = x.flatten().argsort()"
   ]
  },
  {
   "cell_type": "code",
   "execution_count": 22,
   "id": "947b8928-d459-4540-ade4-0de9e50ffe52",
   "metadata": {},
   "outputs": [
    {
     "data": {
      "text/plain": [
       "Text(0, 0.5, 'MEDV')"
      ]
     },
     "execution_count": 22,
     "metadata": {},
     "output_type": "execute_result"
    },
    {
     "data": {
      "image/png": "[encoded data removed]",
      "text/plain": [
       "<Figure size 1000x800 with 1 Axes>"
      ]
     },
     "metadata": {},
     "output_type": "display_data"
    }
   ],
   "source": [
    "plt.figure(figsize = (10, 8))\n",
    "plt.scatter(x[sort_idx], y[sort_idx])\n",
    "plt.plot(x[sort_idx], tree.predict(x[sort_idx]), color = 'k')\n",
    "\n",
    "plt.xlabel('LSTAT')\n",
    "plt.ylabel('MEDV')"
   ]
  },
  {
   "cell_type": "markdown",
   "id": "c4478619-943c-4a78-8b5c-ea69bf031bec",
   "metadata": {},
   "source": [
    "Uso de ADABOOST para saber que variables son mas importantes en la determinacion del valor objetivo"
   ]
  },
  {
   "cell_type": "code",
   "execution_count": 26,
   "id": "fbdde0d1-eab0-45db-b8c1-87585db6439b",
   "metadata": {},
   "outputs": [],
   "source": [
    "from sklearn.ensemble import AdaBoostRegressor\n",
    "from sklearn.model_selection import train_test_split"
   ]
  },
  {
   "cell_type": "code",
   "execution_count": 37,
   "id": "5c589656-6471-4bcd-96f9-01709182ed7f",
   "metadata": {},
   "outputs": [],
   "source": [
    "ada = AdaBoostRegressor(DecisionTreeRegressor(max_depth = 4), n_estimators = 500, random_state = 42)"
   ]
  },
  {
   "cell_type": "code",
   "execution_count": 54,
   "id": "214bf54b-fc67-4fa6-8221-76de53ac1e19",
   "metadata": {},
   "outputs": [],
   "source": [
    "x_train, x_test, y_train, y_test = train_test_split(df_boston.drop(['MEDV'], axis=1), df_boston['MEDV'].values, test_size = 0.3, random_state = 42)"
   ]
  },
  {
   "cell_type": "code",
   "execution_count": 55,
   "id": "6c6b40bf-161a-4edc-964d-84099c02f405",
   "metadata": {},
   "outputs": [
    {
     "data": {
      "text/plain": [
       "AdaBoostRegressor(base_estimator=DecisionTreeRegressor(max_depth=4),\n",
       "                  n_estimators=500, random_state=42)"
      ]
     },
     "execution_count": 55,
     "metadata": {},
     "output_type": "execute_result"
    }
   ],
   "source": [
    "ada.fit(x_train, y_train)"
   ]
  },
  {
   "cell_type": "code",
   "execution_count": 59,
   "id": "219f6442-c17f-4d9f-a4bd-a72d06014621",
   "metadata": {},
   "outputs": [
    {
     "name": "stdout",
     "output_type": "stream",
     "text": [
      "Shape de importances: (13,)\n"
     ]
    }
   ],
   "source": [
    "# Extraer el array de importancias (debe tener longitud 13)\n",
    "importances = ada.feature_importances_\n",
    "print(\"Shape de importances:\", importances.shape)"
   ]
  },
  {
   "cell_type": "code",
   "execution_count": 61,
   "id": "d4190652-286b-481e-92ee-f6c4d6fec418",
   "metadata": {},
   "outputs": [],
   "source": [
    "# Construir DataFrame de importancias mapeando cada valor con la columna correspondiente de X\n",
    "feat_imp = pd.DataFrame({\n",
    "    'feature':    df_boston.drop(['MEDV'], axis=1).columns,   # Index con los 13 nombres de variable\n",
    "    'importance': importances  # Array de 13 importancias\n",
    "})"
   ]
  },
  {
   "cell_type": "code",
   "execution_count": 62,
   "id": "52e1eacc-f103-4e88-82cf-70ac455f1bae",
   "metadata": {},
   "outputs": [
    {
     "name": "stdout",
     "output_type": "stream",
     "text": [
      "    feature  importance\n",
      "0     LSTAT    0.425447\n",
      "1        RM    0.242193\n",
      "2       DIS    0.130558\n",
      "3   PTRATIO    0.040722\n",
      "4       NOX    0.038972\n",
      "5      CRIM    0.032842\n",
      "6         B    0.024303\n",
      "7       TAX    0.023489\n",
      "8       RAD    0.015546\n",
      "9     INDUS    0.011461\n",
      "10      AGE    0.010580\n",
      "11     CHAS    0.002092\n",
      "12       ZN    0.001797\n"
     ]
    }
   ],
   "source": [
    "# Ordenar de mayor a menor y reiniciar índice\n",
    "feat_imp = feat_imp.sort_values(\n",
    "    by='importance',\n",
    "    ascending=False\n",
    ").reset_index(drop=True)\n",
    "\n",
    "# Mostrar el resultado final\n",
    "print(feat_imp)"
   ]
  },
  {
   "cell_type": "code",
   "execution_count": null,
   "id": "287b13b0-93a9-429b-85ea-0ffe6ff49a18",
   "metadata": {},
   "outputs": [],
   "source": []
  }
 ],
 "metadata": {
  "kernelspec": {
   "display_name": "Python 3 (ipykernel)",
   "language": "python",
   "name": "python3"
  },
  "language_info": {
   "codemirror_mode": {
    "name": "ipython",
    "version": 3
   },
   "file_extension": ".py",
   "mimetype": "text/x-python",
   "name": "python",
   "nbconvert_exporter": "python",
   "pygments_lexer": "ipython3",
   "version": "3.7.16"
  }
 },
 "nbformat": 4,
 "nbformat_minor": 5
}
